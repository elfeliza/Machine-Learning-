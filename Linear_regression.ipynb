{
  "nbformat": 4,
  "nbformat_minor": 0,
  "metadata": {
    "colab": {
      "provenance": []
    },
    "kernelspec": {
      "name": "python3",
      "display_name": "Python 3"
    },
    "language_info": {
      "name": "python"
    }
  },
  "cells": [
    {
      "cell_type": "markdown",
      "metadata": {
        "id": "Km42c14entlf"
      },
      "source": [
        "# Домашнее задание. Линейная регрессия\n",
        "В этом домашнем задании вам предстоит написать свой класс линейной регрессии и протестировать его для решения задачи регрессии. \n",
        "\n",
        "Работать мы будем с тем же датасетом пингвинов, что и на семинаре. Ссылка на скачивание датасета: [датасет](https://drive.google.com/file/d/1IxN3dR1D6W_hUI656ghr2T3HcolgLsMF/view?usp=share_link)"
      ]
    },
    {
      "cell_type": "markdown",
      "source": [
        "![picture](https://imgur.com/orZWHly.png)"
      ],
      "metadata": {
        "id": "Dk_sNjY0n0dw"
      }
    },
    {
      "cell_type": "markdown",
      "metadata": {
        "id": "KZcvMfgwntlh"
      },
      "source": [
        "## Импорт библиотек и загрузка данных "
      ]
    },
    {
      "cell_type": "markdown",
      "metadata": {
        "id": "K5jurU4Mntli"
      },
      "source": [
        "Импортируем нужные библиотеки:"
      ]
    },
    {
      "cell_type": "code",
      "execution_count": null,
      "metadata": {
        "id": "8a2gtsXOntli"
      },
      "outputs": [],
      "source": [
        "import numpy as np\n",
        "import pandas as pd\n",
        "import matplotlib.pyplot as plt"
      ]
    },
    {
      "cell_type": "markdown",
      "metadata": {
        "id": "w6oB-SsVntlj"
      },
      "source": [
        "Загрузим датасет (так же, как мы это делали на семинаре):"
      ]
    },
    {
      "cell_type": "code",
      "execution_count": null,
      "metadata": {
        "id": "F_GhFH9Kntlk",
        "colab": {
          "base_uri": "https://localhost:8080/",
          "height": 206
        },
        "outputId": "66df7acd-8e12-4d50-d390-3ddde1fcd3ae"
      },
      "outputs": [
        {
          "output_type": "execute_result",
          "data": {
            "text/plain": [
              "   вид  остров  длина клюва  ширина клюва  длина плавника  масса тела  пол\n",
              "0    0       2         39.1          18.7           181.0      3750.0    1\n",
              "1    0       2         39.5          17.4           186.0      3800.0    0\n",
              "2    0       2         40.3          18.0           195.0      3250.0    0\n",
              "3    0       2         36.7          19.3           193.0      3450.0    0\n",
              "4    0       2         39.3          20.6           190.0      3650.0    1"
            ],
            "text/html": [
              "\n",
              "  <div id=\"df-55c9c007-5b0b-4c38-9f9a-d1694f0b34ed\">\n",
              "    <div class=\"colab-df-container\">\n",
              "      <div>\n",
              "<style scoped>\n",
              "    .dataframe tbody tr th:only-of-type {\n",
              "        vertical-align: middle;\n",
              "    }\n",
              "\n",
              "    .dataframe tbody tr th {\n",
              "        vertical-align: top;\n",
              "    }\n",
              "\n",
              "    .dataframe thead th {\n",
              "        text-align: right;\n",
              "    }\n",
              "</style>\n",
              "<table border=\"1\" class=\"dataframe\">\n",
              "  <thead>\n",
              "    <tr style=\"text-align: right;\">\n",
              "      <th></th>\n",
              "      <th>вид</th>\n",
              "      <th>остров</th>\n",
              "      <th>длина клюва</th>\n",
              "      <th>ширина клюва</th>\n",
              "      <th>длина плавника</th>\n",
              "      <th>масса тела</th>\n",
              "      <th>пол</th>\n",
              "    </tr>\n",
              "  </thead>\n",
              "  <tbody>\n",
              "    <tr>\n",
              "      <th>0</th>\n",
              "      <td>0</td>\n",
              "      <td>2</td>\n",
              "      <td>39.1</td>\n",
              "      <td>18.7</td>\n",
              "      <td>181.0</td>\n",
              "      <td>3750.0</td>\n",
              "      <td>1</td>\n",
              "    </tr>\n",
              "    <tr>\n",
              "      <th>1</th>\n",
              "      <td>0</td>\n",
              "      <td>2</td>\n",
              "      <td>39.5</td>\n",
              "      <td>17.4</td>\n",
              "      <td>186.0</td>\n",
              "      <td>3800.0</td>\n",
              "      <td>0</td>\n",
              "    </tr>\n",
              "    <tr>\n",
              "      <th>2</th>\n",
              "      <td>0</td>\n",
              "      <td>2</td>\n",
              "      <td>40.3</td>\n",
              "      <td>18.0</td>\n",
              "      <td>195.0</td>\n",
              "      <td>3250.0</td>\n",
              "      <td>0</td>\n",
              "    </tr>\n",
              "    <tr>\n",
              "      <th>3</th>\n",
              "      <td>0</td>\n",
              "      <td>2</td>\n",
              "      <td>36.7</td>\n",
              "      <td>19.3</td>\n",
              "      <td>193.0</td>\n",
              "      <td>3450.0</td>\n",
              "      <td>0</td>\n",
              "    </tr>\n",
              "    <tr>\n",
              "      <th>4</th>\n",
              "      <td>0</td>\n",
              "      <td>2</td>\n",
              "      <td>39.3</td>\n",
              "      <td>20.6</td>\n",
              "      <td>190.0</td>\n",
              "      <td>3650.0</td>\n",
              "      <td>1</td>\n",
              "    </tr>\n",
              "  </tbody>\n",
              "</table>\n",
              "</div>\n",
              "      <button class=\"colab-df-convert\" onclick=\"convertToInteractive('df-55c9c007-5b0b-4c38-9f9a-d1694f0b34ed')\"\n",
              "              title=\"Convert this dataframe to an interactive table.\"\n",
              "              style=\"display:none;\">\n",
              "        \n",
              "  <svg xmlns=\"http://www.w3.org/2000/svg\" height=\"24px\"viewBox=\"0 0 24 24\"\n",
              "       width=\"24px\">\n",
              "    <path d=\"M0 0h24v24H0V0z\" fill=\"none\"/>\n",
              "    <path d=\"M18.56 5.44l.94 2.06.94-2.06 2.06-.94-2.06-.94-.94-2.06-.94 2.06-2.06.94zm-11 1L8.5 8.5l.94-2.06 2.06-.94-2.06-.94L8.5 2.5l-.94 2.06-2.06.94zm10 10l.94 2.06.94-2.06 2.06-.94-2.06-.94-.94-2.06-.94 2.06-2.06.94z\"/><path d=\"M17.41 7.96l-1.37-1.37c-.4-.4-.92-.59-1.43-.59-.52 0-1.04.2-1.43.59L10.3 9.45l-7.72 7.72c-.78.78-.78 2.05 0 2.83L4 21.41c.39.39.9.59 1.41.59.51 0 1.02-.2 1.41-.59l7.78-7.78 2.81-2.81c.8-.78.8-2.07 0-2.86zM5.41 20L4 18.59l7.72-7.72 1.47 1.35L5.41 20z\"/>\n",
              "  </svg>\n",
              "      </button>\n",
              "      \n",
              "  <style>\n",
              "    .colab-df-container {\n",
              "      display:flex;\n",
              "      flex-wrap:wrap;\n",
              "      gap: 12px;\n",
              "    }\n",
              "\n",
              "    .colab-df-convert {\n",
              "      background-color: #E8F0FE;\n",
              "      border: none;\n",
              "      border-radius: 50%;\n",
              "      cursor: pointer;\n",
              "      display: none;\n",
              "      fill: #1967D2;\n",
              "      height: 32px;\n",
              "      padding: 0 0 0 0;\n",
              "      width: 32px;\n",
              "    }\n",
              "\n",
              "    .colab-df-convert:hover {\n",
              "      background-color: #E2EBFA;\n",
              "      box-shadow: 0px 1px 2px rgba(60, 64, 67, 0.3), 0px 1px 3px 1px rgba(60, 64, 67, 0.15);\n",
              "      fill: #174EA6;\n",
              "    }\n",
              "\n",
              "    [theme=dark] .colab-df-convert {\n",
              "      background-color: #3B4455;\n",
              "      fill: #D2E3FC;\n",
              "    }\n",
              "\n",
              "    [theme=dark] .colab-df-convert:hover {\n",
              "      background-color: #434B5C;\n",
              "      box-shadow: 0px 1px 3px 1px rgba(0, 0, 0, 0.15);\n",
              "      filter: drop-shadow(0px 1px 2px rgba(0, 0, 0, 0.3));\n",
              "      fill: #FFFFFF;\n",
              "    }\n",
              "  </style>\n",
              "\n",
              "      <script>\n",
              "        const buttonEl =\n",
              "          document.querySelector('#df-55c9c007-5b0b-4c38-9f9a-d1694f0b34ed button.colab-df-convert');\n",
              "        buttonEl.style.display =\n",
              "          google.colab.kernel.accessAllowed ? 'block' : 'none';\n",
              "\n",
              "        async function convertToInteractive(key) {\n",
              "          const element = document.querySelector('#df-55c9c007-5b0b-4c38-9f9a-d1694f0b34ed');\n",
              "          const dataTable =\n",
              "            await google.colab.kernel.invokeFunction('convertToInteractive',\n",
              "                                                     [key], {});\n",
              "          if (!dataTable) return;\n",
              "\n",
              "          const docLinkHtml = 'Like what you see? Visit the ' +\n",
              "            '<a target=\"_blank\" href=https://colab.research.google.com/notebooks/data_table.ipynb>data table notebook</a>'\n",
              "            + ' to learn more about interactive tables.';\n",
              "          element.innerHTML = '';\n",
              "          dataTable['output_type'] = 'display_data';\n",
              "          await google.colab.output.renderOutput(dataTable, element);\n",
              "          const docLink = document.createElement('div');\n",
              "          docLink.innerHTML = docLinkHtml;\n",
              "          element.appendChild(docLink);\n",
              "        }\n",
              "      </script>\n",
              "    </div>\n",
              "  </div>\n",
              "  "
            ]
          },
          "metadata": {},
          "execution_count": 93
        }
      ],
      "source": [
        "data = pd.read_csv('penguins.csv')\n",
        "data.head()"
      ]
    },
    {
      "cell_type": "markdown",
      "metadata": {
        "id": "cdF741MPntlk"
      },
      "source": [
        "Датасет содержит 7 признаков:\n",
        "\n",
        "- **вид**: вид пингвина. Всего их три разных:\t\n",
        "  - 0: Adelie\n",
        "  - 1: Chinstrap\n",
        "  - 2: Gento\n",
        "- **остров**: oстров, на котором обитает пингвин. Всего их три разных:\n",
        "  - 0: Biscoe  \n",
        "  - 1: Dream\n",
        "  - 2: Torgersen\n",
        "- **длина клюва**: длина клюва пингвина в миллиметрах;\n",
        "- **ширина клюва**: ширина клюва пингвина в миллиметрах;\n",
        "- **длина плавника**: длина плавника пингвина в миллиметрах;\n",
        "- **масса тела**:\tмасса тела пингвина в граммах;\n",
        "- **пол**: пол пингвина. Всго их два:\n",
        "  - 0: самка\n",
        "  - 1: самец\n",
        "\n",
        "\n",
        "\n"
      ]
    },
    {
      "cell_type": "markdown",
      "metadata": {
        "id": "wzNUZPprntll"
      },
      "source": [
        "И теперь реализуем свой класс линейной регрессии, который затем обучим на датасете:"
      ]
    },
    {
      "cell_type": "markdown",
      "metadata": {
        "id": "jwODGjxDntlm"
      },
      "source": [
        "## Реализация класса линейной регрессии"
      ]
    },
    {
      "cell_type": "markdown",
      "metadata": {
        "id": "AuyWYnmzntlm"
      },
      "source": [
        "Ниже — заготовка класса линейной регрессии. Ваша задача — написать код для его методов и отправить этот код (весь код класса, всю ячейку ниже) на проверку на Степик. Для этого нужно будет скопировать код класса в поле для отправки ответа на Степике.\n",
        "\n",
        "Перед тем как отправлять код на Степик, можно (и нужно!) проверить его на правильность, попробовав обучить свою линейную регрессию на данных пингвинов, которые мы только что загрузили. Код для этого реализован ниже."
      ]
    },
    {
      "cell_type": "markdown",
      "metadata": {
        "id": "FhQoOv-lntln"
      },
      "source": [
        "Несколько комментариев к заданию:\n",
        "- для каждого метода класса (fit, predict) описано, что этот метод принимает на вход и какой функционал реализует. По сути, fit — это аналог метода fit модели линейной регресси из sklearn, predict — аналог метода predict модели линейной регресси из sklearn;\n",
        "- в методе fit при полечении коэффициентов линейной регрессии вам нужно получить две переменные: self.coef_ и self.intercept_. В self.coef_ должен получиться массив коэффициентов, которые модель поставила в соответствие признакам датасета. В self.intercept_ должно получиться одно число — коэффициент-свободный член, который выучила модель. По сути, self.coef_ и self.intercept_ должны быть аналогами этих же переменных модели Linear Regression из sklearn.\n",
        "\n",
        "Алгоритм реализации метода fit:\n",
        "1. Перевести X и y в numpy array (для удобства). Это уже реализовано; \n",
        "2. Добавить к Х первый столбец из единиц. Подсказка: чтобы это сделать, удобно использовать np.hstack. Подумайте, как именно;\n",
        "3. Получить массив коэффициентов k по формуле, которую мы рассматривали в теоретическом видео (2 видео, 16 слайд)\n",
        "4. Разбить полученный массив коэффициентов k на self.coef_ и self.intercept_\n",
        "\n",
        "Алгоритм реализации метода predict:\n",
        "1. Получить значения y_pred, используя значения выученных коэффициентов и входящих признаков Х по формуле, которую мы рассматривали в теоретическом видео (2 видео, 16 слайд)"
      ]
    },
    {
      "cell_type": "code",
      "execution_count": null,
      "metadata": {
        "id": "LFmMu95Fntln"
      },
      "outputs": [],
      "source": [
        "import numpy.linalg as l\n",
        "\n",
        "class MyLinearRegression:\n",
        "    \n",
        "    def __init__(self):\n",
        "        \n",
        "        self.coef_ = None\n",
        "        self.intercept_ = None\n",
        "        \n",
        "        \n",
        "    def fit(self, X, y):\n",
        "        '''\n",
        "        функция обучения линейной регрессии. Аналог метода fit модели LinearRegression из sklearn.\n",
        "        функция принимает на вход обучающую выборку \n",
        "        (Х — матрица признаков, y — массив ответов, значений целевой переменной),\n",
        "        и подбирает кожффициенты линейной регрессии.\n",
        "        \n",
        "        входящие параметры: \n",
        "            X: матрица размера (n, f), где n — количество элементов датасета, \n",
        "               f — количество признаков\n",
        "            y: массив размера (n, ), где n — количество элементов датасета\n",
        "        '''\n",
        "        # переведем X и y в формат numpy array, \n",
        "        # чтобы было проще работать\n",
        "        X = np.array(X)\n",
        "        y = np.array(y)\n",
        "        \n",
        "        # реализуйте код получения коэффициентов линейной \n",
        "        # регрессии по заданной обучающей выборке Х и y. \n",
        "        # инструкция по реализации дана выше. Не забудьте про\n",
        "        # вектор-столбец из единиц!\n",
        "        one = np.ones(((X.shape)[0], 1)) \n",
        "        mat = np.hstack((one, X))\n",
        "        k = np.dot(np.dot((l.inv(np.dot(np.transpose(mat), mat))), (np.transpose(mat))), y)\n",
        "\n",
        "        \n",
        "        # список коэффициентов, которые модель поставила \n",
        "        # в соответствие признакам датасета. \n",
        "        self.coef_ = k[int(1):int(X.shape[0])]\n",
        "        # коэффициент — свободный член.\n",
        "        self.intercept_ = k[0]\n",
        "        \n",
        "    def predict(self, X):\n",
        "        '''\n",
        "        функция получения предсказания линейной регрессии по входящему массиву признаков Х.  \n",
        "        \n",
        "        входящие параметры: \n",
        "            X: матрица размера (n, f), где n — количество элементов датасета, \n",
        "               f — количество признаков\n",
        "        '''\n",
        "        \n",
        "        y_pred = np.dot(X, self.coef_) + self.intercept_\n",
        "        \n",
        "        return y_pred"
      ]
    },
    {
      "cell_type": "markdown",
      "metadata": {
        "id": "7JPrhX9kntlo"
      },
      "source": [
        "## Тестирование класса линейной регрессии"
      ]
    },
    {
      "cell_type": "markdown",
      "metadata": {
        "id": "R8RwiNTKntlp"
      },
      "source": [
        "Давайте протестируем наш самописный класс MyLinearRegression, чтобы убедиться, что мы написали его верно. Обязательно протестируйте ваш класс перед отправкой кода на Степик!"
      ]
    },
    {
      "cell_type": "markdown",
      "metadata": {
        "id": "CsVvXHp3ntlp"
      },
      "source": [
        "### Датасет с одним признаком"
      ]
    },
    {
      "cell_type": "markdown",
      "metadata": {
        "id": "ajQLYw4_ntlr"
      },
      "source": [
        "Сначала протестируем случай, когда у нас всего один признак в данных. Так же, как и на практическом занятии, заведем переменные Х и y, и присвоим Х один из столбцов нашего датасета пингвинов. В этот раз давайте будем пытаться предсказывать длину клюва пингвина по его длине плавника."
      ]
    },
    {
      "cell_type": "code",
      "execution_count": null,
      "metadata": {
        "id": "oNcr76mGntlr"
      },
      "outputs": [],
      "source": [
        "X = data[['длина плавника']]\n",
        "y = data['длина клюва']"
      ]
    },
    {
      "cell_type": "markdown",
      "metadata": {
        "id": "sHaO-h4untls"
      },
      "source": [
        "Разобьем Х и y на train и test:"
      ]
    },
    {
      "cell_type": "code",
      "execution_count": null,
      "metadata": {
        "id": "k2zJ1dpQntlt"
      },
      "outputs": [],
      "source": [
        "from sklearn.model_selection import train_test_split\n",
        "\n",
        "X_train, X_test, y_train, y_test = train_test_split(X, y, test_size=0.15)"
      ]
    },
    {
      "cell_type": "markdown",
      "metadata": {
        "id": "Y2kpnnPSntlu"
      },
      "source": [
        "И визуализируем точки обучающей выборки:"
      ]
    },
    {
      "cell_type": "code",
      "execution_count": null,
      "metadata": {
        "id": "RLJ2AufVntlv",
        "colab": {
          "base_uri": "https://localhost:8080/",
          "height": 279
        },
        "outputId": "5ddd1682-15a4-43ad-c03c-a9e271b35e1f"
      },
      "outputs": [
        {
          "output_type": "display_data",
          "data": {
            "text/plain": [
              "<Figure size 432x288 with 1 Axes>"
            ],
            "image/png": "[encoded data removed]"
          },
          "metadata": {
            "needs_background": "light"
          }
        }
      ],
      "source": [
        "# визуализируем точки обучающей выборки\n",
        "plt.scatter(X_train, y_train)\n",
        "\n",
        "# подпишем оси\n",
        "plt.xlabel('длина плавника (мм)');\n",
        "plt.ylabel('длина клюва (мм)');\n",
        "\n",
        "plt.show()"
      ]
    },
    {
      "cell_type": "markdown",
      "metadata": {
        "id": "QPnm-4llntlw"
      },
      "source": [
        "Отлично. Теперь объявим и обучим нашу линейную регрессию:"
      ]
    },
    {
      "cell_type": "code",
      "execution_count": null,
      "metadata": {
        "id": "-3ONyDDAntlx"
      },
      "outputs": [],
      "source": [
        "my_lr = MyLinearRegression()\n",
        "my_lr.fit(X_train, y_train)"
      ]
    },
    {
      "cell_type": "markdown",
      "metadata": {
        "id": "tSLN7Lxbntly"
      },
      "source": [
        "И посмотрим, какие у нашей линейной регрессии получились коэффициенты:"
      ]
    },
    {
      "cell_type": "code",
      "execution_count": null,
      "metadata": {
        "id": "2RqtOgfGntly",
        "colab": {
          "base_uri": "https://localhost:8080/"
        },
        "outputId": "e796284f-9d7f-4cdb-b259-b1892ee2c51f"
      },
      "outputs": [
        {
          "output_type": "execute_result",
          "data": {
            "text/plain": [
              "(array([0.26221699]), -8.831701290688791)"
            ]
          },
          "metadata": {},
          "execution_count": 99
        }
      ],
      "source": [
        "my_lr.coef_, my_lr.intercept_"
      ]
    },
    {
      "cell_type": "markdown",
      "metadata": {
        "id": "033dLM_Wntlz"
      },
      "source": [
        "Теперь мы можем визуализировать прямую, которую описывает наша линейная регрессия. Делаем это точно тем же кодом, что на практическом занятии. Убедитесь, что ваша линейная регрессия строит прямую, которая адекватно описывает точки (т.е. похожа на правильную)."
      ]
    },
    {
      "cell_type": "code",
      "execution_count": null,
      "metadata": {
        "id": "YJIVes9entl0",
        "colab": {
          "base_uri": "https://localhost:8080/",
          "height": 279
        },
        "outputId": "e24e49db-6508-4c31-8d83-3a29ed9f8307"
      },
      "outputs": [
        {
          "output_type": "display_data",
          "data": {
            "text/plain": [
              "<Figure size 432x288 with 1 Axes>"
            ],
            "image/png": "[encoded data removed]"
          },
          "metadata": {
            "needs_background": "light"
          }
        }
      ],
      "source": [
        "# визуализируем точки обучающей выборки\n",
        "plt.scatter(X_train, y_train)\n",
        "\n",
        "# визуализируем прямую, которую выражает линейная регрессия\n",
        "# y = coef_*x_1 + intercept_\n",
        "def f_line(x):\n",
        "    return  my_lr.coef_*x + my_lr.intercept_\n",
        "\n",
        "x = [np.min(X_train), np.max(X_train)]\n",
        "y = f_line(x)\n",
        "plt.plot(x, y)\n",
        "\n",
        "plt.xlabel('длина плавника (мм)')\n",
        "plt.ylabel('длина клюва (мм)')\n",
        "\n",
        "plt.show()"
      ]
    },
    {
      "cell_type": "markdown",
      "metadata": {
        "id": "j33ROlMmntl1"
      },
      "source": [
        "Хорошо, мы убедились, что наша линейная регрессия как-то работает: выучивает какие-то коэффициенты. Давайте теперь убедимся, что она работает **правильно**. Для этого импортируем линейную регрессию из sklearn, обучим ее на тех же данных и получим ее коэффициенты. Они должны совпадать с теми, что выучивает наша самописная линейная регрессия."
      ]
    },
    {
      "cell_type": "code",
      "execution_count": null,
      "metadata": {
        "id": "LmsDTWKjntl1"
      },
      "outputs": [],
      "source": [
        "from sklearn.linear_model import LinearRegression"
      ]
    },
    {
      "cell_type": "markdown",
      "metadata": {
        "id": "Dog-K6E8ntl2"
      },
      "source": [
        "Объявляем модель, обучаем и получаем коэффициенты:"
      ]
    },
    {
      "cell_type": "code",
      "execution_count": null,
      "metadata": {
        "id": "f9Xshkvjntl3",
        "colab": {
          "base_uri": "https://localhost:8080/"
        },
        "outputId": "8a4d4c07-932c-4d4c-d1a8-55a160e967cf"
      },
      "outputs": [
        {
          "output_type": "execute_result",
          "data": {
            "text/plain": [
              "(array([0.26221699]), -8.831701290686503)"
            ]
          },
          "metadata": {},
          "execution_count": 102
        }
      ],
      "source": [
        "lr = LinearRegression()\n",
        "lr.fit(X_train, y_train)\n",
        "lr.coef_, lr.intercept_"
      ]
    },
    {
      "cell_type": "markdown",
      "metadata": {
        "id": "ipniXqp1ntl3"
      },
      "source": [
        "Еще раз выведем коэффициенты нашей самописной модели, чтобы сравнить их с теми, что выдает модель из sklearn:"
      ]
    },
    {
      "cell_type": "code",
      "execution_count": null,
      "metadata": {
        "id": "YphJwUcUntl4",
        "colab": {
          "base_uri": "https://localhost:8080/"
        },
        "outputId": "d13fbf63-0ba6-47b7-ddbf-c1f3f2f5113e"
      },
      "outputs": [
        {
          "output_type": "execute_result",
          "data": {
            "text/plain": [
              "(array([0.26221699]), -8.831701290688791)"
            ]
          },
          "metadata": {},
          "execution_count": 103
        }
      ],
      "source": [
        "my_lr.coef_, my_lr.intercept_"
      ]
    },
    {
      "cell_type": "markdown",
      "metadata": {
        "id": "eUDwWv34ntl5"
      },
      "source": [
        "Можно убедиться на глаз, что коэффициенты вашей модели такие же, что у модели из sklearn. Но можно проверить с помощью кода. Код ниже проверяет, что coef_ и inpercept_ вашей модели близки к coef_ и inpercept_ модели из sklearn. Если код ниже не выдает ошибку, то все хорошо. Если выдает ошибку, то ваша модель работает неправильно."
      ]
    },
    {
      "cell_type": "code",
      "execution_count": null,
      "metadata": {
        "id": "bsVsEB_sntl5"
      },
      "outputs": [],
      "source": [
        "assert np.allclose(my_lr.coef_, lr.coef_), \"Ошибка: coef_ вашей модели не совпадает с coef_ модели из sklearn!\"\n",
        "assert np.allclose(my_lr.intercept_, lr.intercept_), \"Ошибка: coef_ вашей модели не совпадает с coef_ модели из sklearn!\""
      ]
    },
    {
      "cell_type": "markdown",
      "metadata": {
        "id": "XFHvCb_cntl5"
      },
      "source": [
        "Если ошибок нет, то поздравляю: у вашей линейной регрессии правильно работает метод fit на датасете, в котором один признак =). Проверим теперь работу метода predict. Вызовем predict у my_lr и у lr и сравним ответы:"
      ]
    },
    {
      "cell_type": "code",
      "execution_count": null,
      "metadata": {
        "id": "MjuhYPU_ntl6"
      },
      "outputs": [],
      "source": [
        "my_y_pred = my_lr.predict(X_test)\n",
        "y_pred = lr.predict(X_test)\n",
        "\n",
        "assert np.allclose(my_y_pred, y_pred), \"Ошибка: метод predict выдает неверные результаты!\""
      ]
    },
    {
      "cell_type": "markdown",
      "metadata": {
        "id": "1V9Z4EFQntl6"
      },
      "source": [
        "Если ячейка отработала без ошибок, поздравляю: ваша линейная регрессия полностью правильно работает на датасете, в котором один признак!\n",
        "    \n",
        "Теперь давайте проверим, что самописная модель также работает на данных, в которых несколько признаков:"
      ]
    },
    {
      "cell_type": "markdown",
      "metadata": {
        "id": "mtdMqWsUntl7"
      },
      "source": [
        "### Датасет с несколькими признаками"
      ]
    },
    {
      "cell_type": "code",
      "execution_count": null,
      "metadata": {
        "id": "hsXba6Bsntl7",
        "colab": {
          "base_uri": "https://localhost:8080/",
          "height": 206
        },
        "outputId": "d17f89af-bf38-43b4-d5f2-5fe4151a3c1e"
      },
      "outputs": [
        {
          "output_type": "execute_result",
          "data": {
            "text/plain": [
              "   вид  остров  длина клюва  ширина клюва  длина плавника  масса тела  пол\n",
              "0    0       2         39.1          18.7           181.0      3750.0    1\n",
              "1    0       2         39.5          17.4           186.0      3800.0    0\n",
              "2    0       2         40.3          18.0           195.0      3250.0    0\n",
              "3    0       2         36.7          19.3           193.0      3450.0    0\n",
              "4    0       2         39.3          20.6           190.0      3650.0    1"
            ],
            "text/html": [
              "\n",
              "  <div id=\"df-16eb83fe-4ff3-4748-bb10-50937ce276cc\">\n",
              "    <div class=\"colab-df-container\">\n",
              "      <div>\n",
              "<style scoped>\n",
              "    .dataframe tbody tr th:only-of-type {\n",
              "        vertical-align: middle;\n",
              "    }\n",
              "\n",
              "    .dataframe tbody tr th {\n",
              "        vertical-align: top;\n",
              "    }\n",
              "\n",
              "    .dataframe thead th {\n",
              "        text-align: right;\n",
              "    }\n",
              "</style>\n",
              "<table border=\"1\" class=\"dataframe\">\n",
              "  <thead>\n",
              "    <tr style=\"text-align: right;\">\n",
              "      <th></th>\n",
              "      <th>вид</th>\n",
              "      <th>остров</th>\n",
              "      <th>длина клюва</th>\n",
              "      <th>ширина клюва</th>\n",
              "      <th>длина плавника</th>\n",
              "      <th>масса тела</th>\n",
              "      <th>пол</th>\n",
              "    </tr>\n",
              "  </thead>\n",
              "  <tbody>\n",
              "    <tr>\n",
              "      <th>0</th>\n",
              "      <td>0</td>\n",
              "      <td>2</td>\n",
              "      <td>39.1</td>\n",
              "      <td>18.7</td>\n",
              "      <td>181.0</td>\n",
              "      <td>3750.0</td>\n",
              "      <td>1</td>\n",
              "    </tr>\n",
              "    <tr>\n",
              "      <th>1</th>\n",
              "      <td>0</td>\n",
              "      <td>2</td>\n",
              "      <td>39.5</td>\n",
              "      <td>17.4</td>\n",
              "      <td>186.0</td>\n",
              "      <td>3800.0</td>\n",
              "      <td>0</td>\n",
              "    </tr>\n",
              "    <tr>\n",
              "      <th>2</th>\n",
              "      <td>0</td>\n",
              "      <td>2</td>\n",
              "      <td>40.3</td>\n",
              "      <td>18.0</td>\n",
              "      <td>195.0</td>\n",
              "      <td>3250.0</td>\n",
              "      <td>0</td>\n",
              "    </tr>\n",
              "    <tr>\n",
              "      <th>3</th>\n",
              "      <td>0</td>\n",
              "      <td>2</td>\n",
              "      <td>36.7</td>\n",
              "      <td>19.3</td>\n",
              "      <td>193.0</td>\n",
              "      <td>3450.0</td>\n",
              "      <td>0</td>\n",
              "    </tr>\n",
              "    <tr>\n",
              "      <th>4</th>\n",
              "      <td>0</td>\n",
              "      <td>2</td>\n",
              "      <td>39.3</td>\n",
              "      <td>20.6</td>\n",
              "      <td>190.0</td>\n",
              "      <td>3650.0</td>\n",
              "      <td>1</td>\n",
              "    </tr>\n",
              "  </tbody>\n",
              "</table>\n",
              "</div>\n",
              "      <button class=\"colab-df-convert\" onclick=\"convertToInteractive('df-16eb83fe-4ff3-4748-bb10-50937ce276cc')\"\n",
              "              title=\"Convert this dataframe to an interactive table.\"\n",
              "              style=\"display:none;\">\n",
              "        \n",
              "  <svg xmlns=\"http://www.w3.org/2000/svg\" height=\"24px\"viewBox=\"0 0 24 24\"\n",
              "       width=\"24px\">\n",
              "    <path d=\"M0 0h24v24H0V0z\" fill=\"none\"/>\n",
              "    <path d=\"M18.56 5.44l.94 2.06.94-2.06 2.06-.94-2.06-.94-.94-2.06-.94 2.06-2.06.94zm-11 1L8.5 8.5l.94-2.06 2.06-.94-2.06-.94L8.5 2.5l-.94 2.06-2.06.94zm10 10l.94 2.06.94-2.06 2.06-.94-2.06-.94-.94-2.06-.94 2.06-2.06.94z\"/><path d=\"M17.41 7.96l-1.37-1.37c-.4-.4-.92-.59-1.43-.59-.52 0-1.04.2-1.43.59L10.3 9.45l-7.72 7.72c-.78.78-.78 2.05 0 2.83L4 21.41c.39.39.9.59 1.41.59.51 0 1.02-.2 1.41-.59l7.78-7.78 2.81-2.81c.8-.78.8-2.07 0-2.86zM5.41 20L4 18.59l7.72-7.72 1.47 1.35L5.41 20z\"/>\n",
              "  </svg>\n",
              "      </button>\n",
              "      \n",
              "  <style>\n",
              "    .colab-df-container {\n",
              "      display:flex;\n",
              "      flex-wrap:wrap;\n",
              "      gap: 12px;\n",
              "    }\n",
              "\n",
              "    .colab-df-convert {\n",
              "      background-color: #E8F0FE;\n",
              "      border: none;\n",
              "      border-radius: 50%;\n",
              "      cursor: pointer;\n",
              "      display: none;\n",
              "      fill: #1967D2;\n",
              "      height: 32px;\n",
              "      padding: 0 0 0 0;\n",
              "      width: 32px;\n",
              "    }\n",
              "\n",
              "    .colab-df-convert:hover {\n",
              "      background-color: #E2EBFA;\n",
              "      box-shadow: 0px 1px 2px rgba(60, 64, 67, 0.3), 0px 1px 3px 1px rgba(60, 64, 67, 0.15);\n",
              "      fill: #174EA6;\n",
              "    }\n",
              "\n",
              "    [theme=dark] .colab-df-convert {\n",
              "      background-color: #3B4455;\n",
              "      fill: #D2E3FC;\n",
              "    }\n",
              "\n",
              "    [theme=dark] .colab-df-convert:hover {\n",
              "      background-color: #434B5C;\n",
              "      box-shadow: 0px 1px 3px 1px rgba(0, 0, 0, 0.15);\n",
              "      filter: drop-shadow(0px 1px 2px rgba(0, 0, 0, 0.3));\n",
              "      fill: #FFFFFF;\n",
              "    }\n",
              "  </style>\n",
              "\n",
              "      <script>\n",
              "        const buttonEl =\n",
              "          document.querySelector('#df-16eb83fe-4ff3-4748-bb10-50937ce276cc button.colab-df-convert');\n",
              "        buttonEl.style.display =\n",
              "          google.colab.kernel.accessAllowed ? 'block' : 'none';\n",
              "\n",
              "        async function convertToInteractive(key) {\n",
              "          const element = document.querySelector('#df-16eb83fe-4ff3-4748-bb10-50937ce276cc');\n",
              "          const dataTable =\n",
              "            await google.colab.kernel.invokeFunction('convertToInteractive',\n",
              "                                                     [key], {});\n",
              "          if (!dataTable) return;\n",
              "\n",
              "          const docLinkHtml = 'Like what you see? Visit the ' +\n",
              "            '<a target=\"_blank\" href=https://colab.research.google.com/notebooks/data_table.ipynb>data table notebook</a>'\n",
              "            + ' to learn more about interactive tables.';\n",
              "          element.innerHTML = '';\n",
              "          dataTable['output_type'] = 'display_data';\n",
              "          await google.colab.output.renderOutput(dataTable, element);\n",
              "          const docLink = document.createElement('div');\n",
              "          docLink.innerHTML = docLinkHtml;\n",
              "          element.appendChild(docLink);\n",
              "        }\n",
              "      </script>\n",
              "    </div>\n",
              "  </div>\n",
              "  "
            ]
          },
          "metadata": {},
          "execution_count": 106
        }
      ],
      "source": [
        "data.head()"
      ]
    },
    {
      "cell_type": "markdown",
      "metadata": {
        "id": "uCb2Oh1Rntl8"
      },
      "source": [
        "Давайте обучим нашу модель на данных, в которых будут все 6 признаков (все, кроме \"длина клюва\", которая у нас целевая переменная)."
      ]
    },
    {
      "cell_type": "code",
      "execution_count": null,
      "metadata": {
        "id": "-CUVoLvhntl8"
      },
      "outputs": [],
      "source": [
        "y = data['длина клюва']\n",
        "X = data.drop(columns=['длина клюва'])"
      ]
    },
    {
      "cell_type": "markdown",
      "metadata": {
        "id": "dhMqI_eHntl8"
      },
      "source": [
        "Поделим данные на train и test:"
      ]
    },
    {
      "cell_type": "code",
      "execution_count": null,
      "metadata": {
        "id": "GWVWPW_Gntl9"
      },
      "outputs": [],
      "source": [
        "from sklearn.model_selection import train_test_split\n",
        "\n",
        "X_train, X_test, y_train, y_test = train_test_split(X, y, test_size=0.15)"
      ]
    },
    {
      "cell_type": "markdown",
      "metadata": {
        "id": "C6nMavsGntl9"
      },
      "source": [
        "Объявим и обучим самописную линейную регрессию на train части:"
      ]
    },
    {
      "cell_type": "code",
      "execution_count": null,
      "metadata": {
        "id": "8q6Ejpsrntl9",
        "colab": {
          "base_uri": "https://localhost:8080/"
        },
        "outputId": "004f9190-749f-49bd-f508-018ba68a7228"
      },
      "outputs": [
        {
          "output_type": "execute_result",
          "data": {
            "text/plain": [
              "(array([ 8.30918425e+00,  7.03495059e-01,  1.52511598e+00, -2.16520791e-03,\n",
              "        -1.23905199e-03,  2.29429151e+00]), 14.270034704971707)"
            ]
          },
          "metadata": {},
          "execution_count": 109
        }
      ],
      "source": [
        "my_lr = MyLinearRegression()\n",
        "my_lr.fit(X_train, y_train)\n",
        "my_lr.coef_, my_lr.intercept_"
      ]
    },
    {
      "cell_type": "markdown",
      "metadata": {
        "id": "FsY8mLULntl-"
      },
      "source": [
        "Также объявим и обучим модель из sklearn, чтобы сравнить их:"
      ]
    },
    {
      "cell_type": "code",
      "execution_count": null,
      "metadata": {
        "id": "h_KRgUyXntl-",
        "colab": {
          "base_uri": "https://localhost:8080/"
        },
        "outputId": "45c111b6-c779-4ac5-e645-04fa9838771d"
      },
      "outputs": [
        {
          "output_type": "execute_result",
          "data": {
            "text/plain": [
              "(array([ 8.30918425e+00,  7.03495059e-01,  1.52511598e+00, -2.16520791e-03,\n",
              "        -1.23905199e-03,  2.29429151e+00]), 14.270034704947548)"
            ]
          },
          "metadata": {},
          "execution_count": 110
        }
      ],
      "source": [
        "lr = LinearRegression()\n",
        "lr.fit(X_train, y_train)\n",
        "lr.coef_, lr.intercept_"
      ]
    },
    {
      "cell_type": "markdown",
      "metadata": {
        "id": "env93J1-ntl_"
      },
      "source": [
        "Проверка, что coef_ и intercept_ совпадают:"
      ]
    },
    {
      "cell_type": "code",
      "execution_count": null,
      "metadata": {
        "id": "pRGmEMFQntl_"
      },
      "outputs": [],
      "source": [
        "assert np.allclose(my_lr.coef_, lr.coef_), \"Ошибка: coef_ вашей модели не совпадает с coef_ модели из sklearn!\"\n",
        "assert np.allclose(my_lr.intercept_, lr.intercept_), \"Ошибка: coef_ вашей модели не совпадает с coef_ модели из sklearn!\""
      ]
    },
    {
      "cell_type": "markdown",
      "metadata": {
        "id": "efmIvjNBntl_"
      },
      "source": [
        "И также проверим, что правильно работает метод predict:"
      ]
    },
    {
      "cell_type": "code",
      "execution_count": null,
      "metadata": {
        "id": "S0hqO7unntmA"
      },
      "outputs": [],
      "source": [
        "my_y_pred = my_lr.predict(X_test)\n",
        "y_pred = lr.predict(X_test)\n",
        "\n",
        "assert np.allclose(my_y_pred, y_pred), \"Ошибка: метод predict выдает неверные результаты!\""
      ]
    },
    {
      "cell_type": "markdown",
      "metadata": {
        "id": "ZK0OQGP8ntmA"
      },
      "source": [
        "Итак, если все ячейки до этого момента отработали без ошибок, поздравляю: кажется, ваша линейная регрессия полностью правильно работает и на датасете, в котором несколько признаков!\n",
        "\n",
        "Вы можете тестировать вашу модель и далее, обучая ее на других даатсетах. После того, как убедитесь, что ошибок в вашей модели нет, не забудьте отправить код на Степик."
      ]
    }
  ]
}